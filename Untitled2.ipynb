{
  "nbformat": 4,
  "nbformat_minor": 0,
  "metadata": {
    "colab": {
      "provenance": [],
      "authorship_tag": "ABX9TyNJpVJ1TCFAguEhopA1AwHY",
      "include_colab_link": true
    },
    "kernelspec": {
      "name": "python3",
      "display_name": "Python 3"
    },
    "language_info": {
      "name": "python"
    }
  },
  "cells": [
    {
      "cell_type": "markdown",
      "metadata": {
        "id": "view-in-github",
        "colab_type": "text"
      },
      "source": [
        "<a href=\"https://colab.research.google.com/github/Khuliso877/Ai-week-3/blob/main/Untitled2.ipynb\" target=\"_parent\"><img src=\"https://colab.research.google.com/assets/colab-badge.svg\" alt=\"Open In Colab\"/></a>"
      ]
    },
    {
      "cell_type": "code",
      "execution_count": 1,
      "metadata": {
        "colab": {
          "base_uri": "https://localhost:8080/"
        },
        "id": "vQUkIZAt8nJS",
        "outputId": "2bbca632-6c85-49f3-bdac-ce585c2d9095"
      },
      "outputs": [
        {
          "output_type": "stream",
          "name": "stdout",
          "text": [
            "🔍 Named Entities:\n",
            "\n",
            "Review: I love my new Apple iPhone 14 Pro! The camera is amazing.\n",
            " - Apple (ORG)\n",
            "\n",
            "Review: The Samsung Galaxy S22 is overpriced and the battery dies quickly.\n",
            "\n",
            "Review: This Logitech mouse is super responsive and comfortable to use.\n",
            " - Logitech (ORG)\n",
            "\n",
            "Review: Terrible experience with the Sony headphones. Poor sound quality.\n",
            " - Sony (ORG)\n",
            "\n",
            "Review: My Dell laptop runs fast and handles multitasking well.\n",
            "\n",
            "🧾 Sentiment Analysis:\n",
            "Review: I love my new Apple iPhone 14 Pro! The camera is amazing.\n",
            " → Sentiment: Positive\n",
            "\n",
            "Review: The Samsung Galaxy S22 is overpriced and the battery dies quickly.\n",
            " → Sentiment: Negative\n",
            "\n",
            "Review: This Logitech mouse is super responsive and comfortable to use.\n",
            " → Sentiment: Positive\n",
            "\n",
            "Review: Terrible experience with the Sony headphones. Poor sound quality.\n",
            " → Sentiment: Negative\n",
            "\n",
            "Review: My Dell laptop runs fast and handles multitasking well.\n",
            " → Sentiment: Positive\n",
            "\n"
          ]
        }
      ],
      "source": [
        "import spacy\n",
        "\n",
        "# Load spaCy's English model\n",
        "nlp = spacy.load(\"en_core_web_sm\")\n",
        "\n",
        "# Sample Amazon reviews\n",
        "reviews = [\n",
        "    \"I love my new Apple iPhone 14 Pro! The camera is amazing.\",\n",
        "    \"The Samsung Galaxy S22 is overpriced and the battery dies quickly.\",\n",
        "    \"This Logitech mouse is super responsive and comfortable to use.\",\n",
        "    \"Terrible experience with the Sony headphones. Poor sound quality.\",\n",
        "    \"My Dell laptop runs fast and handles multitasking well.\"\n",
        "]\n",
        "print(\"🔍 Named Entities:\")\n",
        "for review in reviews:\n",
        "    doc = nlp(review)\n",
        "    print(f\"\\nReview: {review}\")\n",
        "    for ent in doc.ents:\n",
        "        if ent.label_ in [\"PRODUCT\", \"ORG\"]:\n",
        "            print(f\" - {ent.text} ({ent.label_})\")\n",
        "            # Define simple positive and negative keywords\n",
        "positive_keywords = [\"love\", \"amazing\", \"super\", \"comfortable\", \"fast\", \"well\"]\n",
        "negative_keywords = [\"terrible\", \"poor\", \"overpriced\", \"dies\", \"bad\"]\n",
        "\n",
        "def analyze_sentiment(text):\n",
        "    text_lower = text.lower()\n",
        "    pos = any(word in text_lower for word in positive_keywords)\n",
        "    neg = any(word in text_lower for word in negative_keywords)\n",
        "    if pos and not neg:\n",
        "        return \"Positive\"\n",
        "    elif neg and not pos:\n",
        "        return \"Negative\"\n",
        "    elif pos and neg:\n",
        "        return \"Mixed\"\n",
        "    else:\n",
        "        return \"Neutral\"\n",
        "\n",
        "print(\"\\n🧾 Sentiment Analysis:\")\n",
        "for review in reviews:\n",
        "    sentiment = analyze_sentiment(review)\n",
        "    print(f\"Review: {review}\\n → Sentiment: {sentiment}\\n\")"
      ]
    }
  ]
}